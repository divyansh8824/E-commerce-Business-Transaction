{
 "cells": [
  {
   "cell_type": "markdown",
   "id": "961ca76b",
   "metadata": {},
   "source": [
    "<H1> Data Analysis </h1>"
   ]
  },
  {
   "cell_type": "code",
   "execution_count": 30,
   "id": "5220140c",
   "metadata": {},
   "outputs": [],
   "source": [
    "#Importing libraries\n",
    "import pandas as pd\n",
    "import numpy as np\n",
    "from matplotlib import pyplot as plt\n",
    "import seaborn as sns"
   ]
  },
  {
   "cell_type": "code",
   "execution_count": 37,
   "id": "0403596e",
   "metadata": {},
   "outputs": [],
   "source": [
    "#reading dataset\n",
    "df = pd.read_csv('Sales Transaction v.4a.csv') "
   ]
  },
  {
   "cell_type": "code",
   "execution_count": 38,
   "id": "3e5f1374",
   "metadata": {},
   "outputs": [
    {
     "data": {
      "text/html": [
       "<div>\n",
       "<style scoped>\n",
       "    .dataframe tbody tr th:only-of-type {\n",
       "        vertical-align: middle;\n",
       "    }\n",
       "\n",
       "    .dataframe tbody tr th {\n",
       "        vertical-align: top;\n",
       "    }\n",
       "\n",
       "    .dataframe thead th {\n",
       "        text-align: right;\n",
       "    }\n",
       "</style>\n",
       "<table border=\"1\" class=\"dataframe\">\n",
       "  <thead>\n",
       "    <tr style=\"text-align: right;\">\n",
       "      <th></th>\n",
       "      <th>TransactionNo</th>\n",
       "      <th>Date</th>\n",
       "      <th>ProductNo</th>\n",
       "      <th>ProductName</th>\n",
       "      <th>Price</th>\n",
       "      <th>Quantity</th>\n",
       "      <th>CustomerNo</th>\n",
       "      <th>Country</th>\n",
       "    </tr>\n",
       "  </thead>\n",
       "  <tbody>\n",
       "    <tr>\n",
       "      <th>0</th>\n",
       "      <td>581482</td>\n",
       "      <td>12/9/2019</td>\n",
       "      <td>22485</td>\n",
       "      <td>Set Of 2 Wooden Market Crates</td>\n",
       "      <td>21.47</td>\n",
       "      <td>12</td>\n",
       "      <td>17490.0</td>\n",
       "      <td>United Kingdom</td>\n",
       "    </tr>\n",
       "    <tr>\n",
       "      <th>1</th>\n",
       "      <td>581475</td>\n",
       "      <td>12/9/2019</td>\n",
       "      <td>22596</td>\n",
       "      <td>Christmas Star Wish List Chalkboard</td>\n",
       "      <td>10.65</td>\n",
       "      <td>36</td>\n",
       "      <td>13069.0</td>\n",
       "      <td>United Kingdom</td>\n",
       "    </tr>\n",
       "    <tr>\n",
       "      <th>2</th>\n",
       "      <td>581475</td>\n",
       "      <td>12/9/2019</td>\n",
       "      <td>23235</td>\n",
       "      <td>Storage Tin Vintage Leaf</td>\n",
       "      <td>11.53</td>\n",
       "      <td>12</td>\n",
       "      <td>13069.0</td>\n",
       "      <td>United Kingdom</td>\n",
       "    </tr>\n",
       "    <tr>\n",
       "      <th>3</th>\n",
       "      <td>581475</td>\n",
       "      <td>12/9/2019</td>\n",
       "      <td>23272</td>\n",
       "      <td>Tree T-Light Holder Willie Winkie</td>\n",
       "      <td>10.65</td>\n",
       "      <td>12</td>\n",
       "      <td>13069.0</td>\n",
       "      <td>United Kingdom</td>\n",
       "    </tr>\n",
       "    <tr>\n",
       "      <th>4</th>\n",
       "      <td>581475</td>\n",
       "      <td>12/9/2019</td>\n",
       "      <td>23239</td>\n",
       "      <td>Set Of 4 Knick Knack Tins Poppies</td>\n",
       "      <td>11.94</td>\n",
       "      <td>6</td>\n",
       "      <td>13069.0</td>\n",
       "      <td>United Kingdom</td>\n",
       "    </tr>\n",
       "  </tbody>\n",
       "</table>\n",
       "</div>"
      ],
      "text/plain": [
       "  TransactionNo       Date ProductNo                          ProductName  \\\n",
       "0        581482  12/9/2019     22485        Set Of 2 Wooden Market Crates   \n",
       "1        581475  12/9/2019     22596  Christmas Star Wish List Chalkboard   \n",
       "2        581475  12/9/2019     23235             Storage Tin Vintage Leaf   \n",
       "3        581475  12/9/2019     23272    Tree T-Light Holder Willie Winkie   \n",
       "4        581475  12/9/2019     23239    Set Of 4 Knick Knack Tins Poppies   \n",
       "\n",
       "   Price  Quantity  CustomerNo         Country  \n",
       "0  21.47        12     17490.0  United Kingdom  \n",
       "1  10.65        36     13069.0  United Kingdom  \n",
       "2  11.53        12     13069.0  United Kingdom  \n",
       "3  10.65        12     13069.0  United Kingdom  \n",
       "4  11.94         6     13069.0  United Kingdom  "
      ]
     },
     "execution_count": 38,
     "metadata": {},
     "output_type": "execute_result"
    }
   ],
   "source": [
    "#Dataset show\n",
    "df.head()"
   ]
  },
  {
   "cell_type": "code",
   "execution_count": 41,
   "id": "1b84466f",
   "metadata": {},
   "outputs": [
    {
     "data": {
      "text/plain": [
       "(536350, 8)"
      ]
     },
     "execution_count": 41,
     "metadata": {},
     "output_type": "execute_result"
    }
   ],
   "source": [
    "#explore datasetdf.shape \n",
    "df.shape  #getting rows and columns"
   ]
  },
  {
   "cell_type": "code",
   "execution_count": 42,
   "id": "6f9c28c1",
   "metadata": {},
   "outputs": [
    {
     "data": {
      "text/html": [
       "<div>\n",
       "<style scoped>\n",
       "    .dataframe tbody tr th:only-of-type {\n",
       "        vertical-align: middle;\n",
       "    }\n",
       "\n",
       "    .dataframe tbody tr th {\n",
       "        vertical-align: top;\n",
       "    }\n",
       "\n",
       "    .dataframe thead th {\n",
       "        text-align: right;\n",
       "    }\n",
       "</style>\n",
       "<table border=\"1\" class=\"dataframe\">\n",
       "  <thead>\n",
       "    <tr style=\"text-align: right;\">\n",
       "      <th></th>\n",
       "      <th>Price</th>\n",
       "      <th>Quantity</th>\n",
       "      <th>CustomerNo</th>\n",
       "    </tr>\n",
       "  </thead>\n",
       "  <tbody>\n",
       "    <tr>\n",
       "      <th>count</th>\n",
       "      <td>536350.000000</td>\n",
       "      <td>536350.000000</td>\n",
       "      <td>536295.000000</td>\n",
       "    </tr>\n",
       "    <tr>\n",
       "      <th>mean</th>\n",
       "      <td>12.662182</td>\n",
       "      <td>9.919347</td>\n",
       "      <td>15227.893178</td>\n",
       "    </tr>\n",
       "    <tr>\n",
       "      <th>std</th>\n",
       "      <td>8.490450</td>\n",
       "      <td>216.662300</td>\n",
       "      <td>1716.582932</td>\n",
       "    </tr>\n",
       "    <tr>\n",
       "      <th>min</th>\n",
       "      <td>5.130000</td>\n",
       "      <td>-80995.000000</td>\n",
       "      <td>12004.000000</td>\n",
       "    </tr>\n",
       "    <tr>\n",
       "      <th>25%</th>\n",
       "      <td>10.990000</td>\n",
       "      <td>1.000000</td>\n",
       "      <td>13807.000000</td>\n",
       "    </tr>\n",
       "    <tr>\n",
       "      <th>50%</th>\n",
       "      <td>11.940000</td>\n",
       "      <td>3.000000</td>\n",
       "      <td>15152.000000</td>\n",
       "    </tr>\n",
       "    <tr>\n",
       "      <th>75%</th>\n",
       "      <td>14.090000</td>\n",
       "      <td>10.000000</td>\n",
       "      <td>16729.000000</td>\n",
       "    </tr>\n",
       "    <tr>\n",
       "      <th>max</th>\n",
       "      <td>660.620000</td>\n",
       "      <td>80995.000000</td>\n",
       "      <td>18287.000000</td>\n",
       "    </tr>\n",
       "  </tbody>\n",
       "</table>\n",
       "</div>"
      ],
      "text/plain": [
       "               Price       Quantity     CustomerNo\n",
       "count  536350.000000  536350.000000  536295.000000\n",
       "mean       12.662182       9.919347   15227.893178\n",
       "std         8.490450     216.662300    1716.582932\n",
       "min         5.130000  -80995.000000   12004.000000\n",
       "25%        10.990000       1.000000   13807.000000\n",
       "50%        11.940000       3.000000   15152.000000\n",
       "75%        14.090000      10.000000   16729.000000\n",
       "max       660.620000   80995.000000   18287.000000"
      ]
     },
     "execution_count": 42,
     "metadata": {},
     "output_type": "execute_result"
    }
   ],
   "source": [
    "#statistical analysis\n",
    "df.describe()"
   ]
  },
  {
   "cell_type": "code",
   "execution_count": 43,
   "id": "8f7d9660",
   "metadata": {},
   "outputs": [
    {
     "name": "stdout",
     "output_type": "stream",
     "text": [
      "<class 'pandas.core.frame.DataFrame'>\n",
      "RangeIndex: 536350 entries, 0 to 536349\n",
      "Data columns (total 8 columns):\n",
      " #   Column         Non-Null Count   Dtype  \n",
      "---  ------         --------------   -----  \n",
      " 0   TransactionNo  536350 non-null  object \n",
      " 1   Date           536350 non-null  object \n",
      " 2   ProductNo      536350 non-null  object \n",
      " 3   ProductName    536350 non-null  object \n",
      " 4   Price          536350 non-null  float64\n",
      " 5   Quantity       536350 non-null  int64  \n",
      " 6   CustomerNo     536295 non-null  float64\n",
      " 7   Country        536350 non-null  object \n",
      "dtypes: float64(2), int64(1), object(5)\n",
      "memory usage: 32.7+ MB\n"
     ]
    }
   ],
   "source": [
    "df.info()"
   ]
  },
  {
   "cell_type": "code",
   "execution_count": 44,
   "id": "5b9ca84b",
   "metadata": {},
   "outputs": [
    {
     "data": {
      "text/plain": [
       "TransactionNo     0\n",
       "Date              0\n",
       "ProductNo         0\n",
       "ProductName       0\n",
       "Price             0\n",
       "Quantity          0\n",
       "CustomerNo       55\n",
       "Country           0\n",
       "dtype: int64"
      ]
     },
     "execution_count": 44,
     "metadata": {},
     "output_type": "execute_result"
    }
   ],
   "source": [
    "#finding null values\n",
    "df.isnull().sum()  #customer no has some null values"
   ]
  },
  {
   "cell_type": "markdown",
   "id": "e4f4c189",
   "metadata": {},
   "source": [
    "<h3> Interpolate missing values: We can use the interpolate() method to fill in missing values by estimating their values based on the values of adjacent data points.</h3>"
   ]
  },
  {
   "cell_type": "code",
   "execution_count": 45,
   "id": "5a9ac236",
   "metadata": {},
   "outputs": [],
   "source": [
    "#handling missing values\n",
    "df['CustomerNo'].interpolate(method='linear',inplace=True)"
   ]
  },
  {
   "cell_type": "markdown",
   "id": "068d180d",
   "metadata": {},
   "source": [
    "<H2> Inspiration </H2>\n",
    "<P>Information is a main asset of businesses nowadays. The success of a business in a competitive environment depends on its ability to acquire, store, and utilize information. Data is one of the main sources of information. Therefore, data analysis is an important activity for acquiring new and useful information. Analyze this dataset and try to answer the following questions.\n",
    "\n",
    "How was the sales trend over the months?\n",
    "What are the most frequently purchased products?\n",
    "How many products does the customer purchase in each transaction?\n",
    "What are the most profitable segment customers?\n",
    "Based on your findings, what strategy could you recommend to the business to gain more profit?\n",
    "\n",
    "</P>"
   ]
  },
  {
   "cell_type": "markdown",
   "id": "3c6b1dde",
   "metadata": {},
   "source": [
    "<h3> Q. How was the sales trend over the months? </h3>"
   ]
  },
  {
   "cell_type": "markdown",
   "id": "147b3cef",
   "metadata": {},
   "source": [
    "<p> To analyze the sales trend over the months, we can group the transactions by the month of the Date column and calculate the total sales for each month. We can then plot this information in a line chart to visualize the trend.\n",
    "\n",
    "Here's an example code to do this in Python using pandas and matplotlib: </p>"
   ]
  },
  {
   "cell_type": "code",
   "execution_count": 48,
   "id": "2ae02f3f",
   "metadata": {},
   "outputs": [],
   "source": [
    "# Convert the Date column to datetime format\n",
    "df['Date'] = pd.to_datetime(df['Date'])"
   ]
  },
  {
   "cell_type": "markdown",
   "id": "47694c05",
   "metadata": {},
   "source": [
    "<p>\n",
    "This line of code is using pandas to group the transactions in the dataframe df by the month of the Date column, and then calculate the total sales for each month using the sum() method on the Price column.\n",
    "\n",
    "Here's a breakdown of the code:\n",
    "\n",
    "df.groupby() groups the data in df by a given column or set of columns. In this case, we are grouping by the month of the Date column using the dt.to_period() method, which converts the Date column to a PeriodIndex object with a monthly frequency.\n",
    "\n",
    "['Price'].sum() selects the Price column and calculates the sum of its values for each group. This gives us the total sales for each month.\n",
    "\n",
    "The resulting series is stored in the monthly_sales variable.\n",
    "\n",
    "Overall, this code is an efficient way to calculate the total sales for each month in the e-commerce transaction dataset.\n",
    "\n",
    "</p>"
   ]
  },
  {
   "cell_type": "code",
   "execution_count": 56,
   "id": "19428174",
   "metadata": {},
   "outputs": [],
   "source": [
    "# Group the transactions by month and calculate the total sales\n",
    "monthly_sales = df.groupby(df['Date'].dt.to_period('M'))['Price'].sum()\n",
    "\n",
    "# Convert the PeriodIndex to string format using the %Y-%m format\n",
    "monthly_sales.index = monthly_sales.index.strftime('%Y-%m')"
   ]
  },
  {
   "cell_type": "code",
   "execution_count": 57,
   "id": "d36769e9",
   "metadata": {},
   "outputs": [
    {
     "data": {
      "image/png": "[encoded data removed]",
      "text/plain": [
       "<Figure size 640x480 with 1 Axes>"
      ]
     },
     "metadata": {},
     "output_type": "display_data"
    }
   ],
   "source": [
    "# Plot the monthly sales trend\n",
    "plt.plot(monthly_sales.index, monthly_sales.values)\n",
    "plt.title('Monthly Sales Trend')\n",
    "plt.xlabel('Month')\n",
    "plt.ylabel('Total Sales (£)')\n",
    "plt.show()"
   ]
  },
  {
   "cell_type": "markdown",
   "id": "885979ac",
   "metadata": {},
   "source": [
    "<p>\n",
    "This will generate a line chart showing the monthly sales trend over the year.\n",
    "\n",
    "Based on the chart, we can see that the sales were relatively low in the first few months of the year, but started to pick up in March and peaked in November. There was a significant drop in sales in December, which could be due to the holiday season and the fact that many customers may have completed their shopping earlier in the month. Overall, the trend shows a steady increase in sales from March to November, with a drop in December.\n",
    "</p>"
   ]
  },
  {
   "cell_type": "markdown",
   "id": "73df0bed",
   "metadata": {},
   "source": [
    "<h3> Q. What are the most frequently purchased products? </h3>"
   ]
  },
  {
   "cell_type": "code",
   "execution_count": 62,
   "id": "aa40666b",
   "metadata": {},
   "outputs": [
    {
     "name": "stdout",
     "output_type": "stream",
     "text": [
      "Top 10 Products are: ProductName\n",
      "Popcorn Holder                        56450\n",
      "World War 2 Gliders Asstd Designs     53847\n",
      "Jumbo Bag Red Retrospot               47363\n",
      "Assorted Colour Bird Ornament         36445\n",
      "Pack Of 72 Retrospot Cake Cases       36231\n",
      "Cream Hanging Heart T-Light Holder    35378\n",
      "Rabbit Night Light                    30680\n",
      "Mini Paint Set Vintage                26437\n",
      "Pack Of 12 London Tissues             25907\n",
      "Pack Of 60 Pink Paisley Cake Cases    24753\n",
      "Name: Quantity, dtype: int64\n"
     ]
    }
   ],
   "source": [
    "# Get the top 10 most frequently purchased products\n",
    "top_product = df.groupby('ProductName')['Quantity'].sum().nlargest(10)\n",
    "print(\"Top 10 Products are:\", top_product)"
   ]
  },
  {
   "cell_type": "markdown",
   "id": "d4f6be11",
   "metadata": {},
   "source": [
    "<p> The results may be useful for businesses to understand the preferences and buying patterns of their customers. By identifying the most frequently purchased products, businesses can optimize their inventory and marketing strategies to promote these popular products and ensure they are always in stock. Additionally, businesses can use this information to identify opportunities for product bundling or cross-selling to increase sales and revenue.\n",
    "\n",
    "It is important to note that the results may be biased towards products that are more popular or have a higher demand, and may not necessarily represent the entire product catalog. Further analysis may be required to get a more comprehensive understanding of customer preferences and buying behavior.\n",
    "</p>"
   ]
  },
  {
   "cell_type": "markdown",
   "id": "eebeeab0",
   "metadata": {},
   "source": [
    "<h3> Q. How many products does the customer purchase in each transaction? </h3>"
   ]
  },
  {
   "cell_type": "code",
   "execution_count": 66,
   "id": "c0a1a5e2",
   "metadata": {},
   "outputs": [
    {
     "name": "stdout",
     "output_type": "stream",
     "text": [
      "Number of products purchased in each transaction: TransactionNo\n",
      "536365        40\n",
      "536366        12\n",
      "536367        83\n",
      "536368        15\n",
      "536369         3\n",
      "           ...  \n",
      "C581470       -4\n",
      "C581484   -80995\n",
      "C581490      -23\n",
      "C581568       -5\n",
      "C581569       -6\n",
      "Name: Quantity, Length: 23204, dtype: int64\n"
     ]
    }
   ],
   "source": [
    "# Calculate the number of products purchased in each transaction\n",
    "pro_pertranc = df.groupby('TransactionNo')['Quantity'].sum()\n",
    "\n",
    "print(\"Number of products purchased in each transaction:\", pro_pertranc)"
   ]
  },
  {
   "cell_type": "markdown",
   "id": "adf88b56",
   "metadata": {},
   "source": [
    "<p>\n",
    "The visualization of the number of products purchased in each transaction provides useful insights into customer buying behavior. From the bar chart, we can see that the majority of transactions involve the purchase of only one or two products. However, there are also a significant number of transactions that involve larger quantities of products, particularly in the range of 5-10 items. This suggests that some customers may be buying in bulk or stocking up on certain products.\n",
    "\n",
    "By analyzing the frequency and distribution of product purchases, businesses can gain a better understanding of customer preferences and tailor their marketing and sales strategies accordingly. For example, if a large percentage of customers are buying multiple items in a single transaction, a business might consider offering discounts or promotions for bulk purchases. On the other hand, if most transactions involve only one or two items, a business might focus on cross-selling or upselling related products to increase the average order value.\n",
    "\n",
    "Overall, visualizing the number of products purchased in each transaction using Tableau can help businesses identify opportunities for growth and improve their customer engagement and retention strategies.\n",
    "\n",
    "</p>"
   ]
  },
  {
   "cell_type": "markdown",
   "id": "32a1ae46",
   "metadata": {},
   "source": [
    "<h3> Q. What are the most profitable segment customers? </h3>"
   ]
  },
  {
   "cell_type": "code",
   "execution_count": 73,
   "id": "a3653115",
   "metadata": {},
   "outputs": [
    {
     "data": {
      "text/plain": [
       "CustomerNo\n",
       "12004.0     1509.60\n",
       "12006.0       24.76\n",
       "12008.0     5689.57\n",
       "12013.0       69.96\n",
       "12024.0      149.52\n",
       "             ...   \n",
       "18280.0      623.26\n",
       "18281.0      576.58\n",
       "18282.0      992.11\n",
       "18283.0    12114.61\n",
       "18287.0    18139.56\n",
       "Name: Revenue, Length: 4779, dtype: float64"
      ]
     },
     "execution_count": 73,
     "metadata": {},
     "output_type": "execute_result"
    }
   ],
   "source": [
    "# Calculate the total revenue generated by each customer\n",
    "df['Revenue'] = df['Price'] * df['Quantity']\n",
    "\n",
    "# Group the revenue by customer segment\n",
    "segmented = df.groupby('CustomerNo')['Revenue'].sum()\n",
    "segmented"
   ]
  },
  {
   "cell_type": "markdown",
   "id": "b1f29dff",
   "metadata": {},
   "source": [
    "<h3> Based on your findings, what strategy could you recommend to the business to gain more profit? </h3>\n",
    "<p> Based on the analysis of the most profitable customer segment, we could recommend the following strategies to the business to gain more profit:\n",
    "\n",
    "Targeting the most profitable customer segment: Since we have identified the most profitable customer segment, the business could focus its marketing efforts and resources on this segment to gain more profit. For example, the business could offer personalized promotions and discounts to this segment to encourage repeat purchases and increase customer loyalty.\n",
    "\n",
    "Improving customer experience: In addition to targeting the most profitable customer segment, the business could also focus on improving the overall customer experience. This could include providing better customer service, offering a wider range of products and services, and improving the website's user interface and checkout process.\n",
    "\n",
    "Optimizing pricing and product mix: The business could also optimize its pricing and product mix to maximize profitability. This could involve adjusting the prices of individual products, bundling products together to create more value for the customer, and promoting high-margin products.\n",
    "\n",
    "Expanding into new markets: Finally, the business could consider expanding into new markets to increase its customer base and revenue streams. This could involve entering new geographical markets, targeting new customer segments, or introducing new product lines. However, the expansion should be done after careful market research and analysis to ensure that it aligns with the business's overall strategy and capabilities.\n",
    "\n",
    "\n",
    "\n",
    "\n",
    "</p>"
   ]
  },
  {
   "cell_type": "markdown",
   "id": "77fbdde9",
   "metadata": {},
   "source": []
  },
  {
   "cell_type": "markdown",
   "id": "d03c03c1",
   "metadata": {},
   "source": []
  },
  {
   "cell_type": "code",
   "execution_count": 76,
   "id": "75282c4b",
   "metadata": {},
   "outputs": [],
   "source": []
  },
  {
   "cell_type": "code",
   "execution_count": null,
   "id": "aa01c596",
   "metadata": {},
   "outputs": [],
   "source": []
  }
 ],
 "metadata": {
  "kernelspec": {
   "display_name": "Python 3 (ipykernel)",
   "language": "python",
   "name": "python3"
  },
  "language_info": {
   "codemirror_mode": {
    "name": "ipython",
    "version": 3
   },
   "file_extension": ".py",
   "mimetype": "text/x-python",
   "name": "python",
   "nbconvert_exporter": "python",
   "pygments_lexer": "ipython3",
   "version": "3.9.13"
  }
 },
 "nbformat": 4,
 "nbformat_minor": 5
}
